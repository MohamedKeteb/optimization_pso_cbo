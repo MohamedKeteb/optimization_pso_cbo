{
 "cells": [
  {
   "cell_type": "code",
   "execution_count": 10,
   "id": "1cbcf8f5-56f0-4210-92e8-1f10d3657d9c",
   "metadata": {},
   "outputs": [],
   "source": [
    "import main_pso as pso\n",
    "import matplotlib.pyplot as plt"
   ]
  },
  {
   "cell_type": "code",
   "execution_count": 11,
   "id": "7289d0fb-673e-4290-b76d-cfcfb62d8de3",
   "metadata": {},
   "outputs": [],
   "source": [
    "c1, c2, w, k = 1, 1.5, 0.8, 0.7\n",
    "T = 10\n",
    "N = 20\n",
    "x_inf = -5\n",
    "x_sup = 5\n",
    "vmax = k*(x_sup - x_inf)/2"
   ]
  },
  {
   "cell_type": "code",
   "execution_count": 15,
   "id": "3180fa13-fdcc-4b11-9a91-920a6837d19a",
   "metadata": {},
   "outputs": [],
   "source": [
    "def function(x):\n",
    "    return np.sin(x)"
   ]
  },
  {
   "cell_type": "code",
   "execution_count": 19,
   "id": "769301ab-76d2-4f42-99d0-ec3f6a9c5f75",
   "metadata": {},
   "outputs": [
    {
     "ename": "NameError",
     "evalue": "name 'x_inf' is not defined",
     "output_type": "error",
     "traceback": [
      "\u001b[0;31m---------------------------------------------------------------------------\u001b[0m",
      "\u001b[0;31mNameError\u001b[0m                                 Traceback (most recent call last)",
      "Cell \u001b[0;32mIn[19], line 1\u001b[0m\n\u001b[0;32m----> 1\u001b[0m \u001b[43mpso\u001b[49m\u001b[38;5;241;43m.\u001b[39;49m\u001b[43mrun_pso\u001b[49m\u001b[43m(\u001b[49m\u001b[43mT\u001b[49m\u001b[43m)\u001b[49m\n",
      "File \u001b[0;32m~/work/optimization_pso_cbo/main_pso.py:56\u001b[0m, in \u001b[0;36mrun_pso\u001b[0;34m(T)\u001b[0m\n\u001b[1;32m     54\u001b[0m \u001b[38;5;28;01mdef\u001b[39;00m \u001b[38;5;21mrun_pso\u001b[39m(T):\n\u001b[0;32m---> 56\u001b[0m     particles \u001b[38;5;241m=\u001b[39m np\u001b[38;5;241m.\u001b[39mrandom\u001b[38;5;241m.\u001b[39muniform(\u001b[43mx_inf\u001b[49m, x_sup, N)\n\u001b[1;32m     57\u001b[0m     velocity \u001b[38;5;241m=\u001b[39m np\u001b[38;5;241m.\u001b[39mzeros_like(particles)\n\u001b[1;32m     58\u001b[0m     pbest \u001b[38;5;241m=\u001b[39m np\u001b[38;5;241m.\u001b[39mcopy(particles)\n",
      "\u001b[0;31mNameError\u001b[0m: name 'x_inf' is not defined"
     ]
    }
   ],
   "source": [
    "pso.run_pso(T)"
   ]
  },
  {
   "cell_type": "code",
   "execution_count": 14,
   "id": "0922905f-a674-4cd8-93bb-1b5fc26f33d8",
   "metadata": {},
   "outputs": [
    {
     "ename": "NameError",
     "evalue": "name 'np' is not defined",
     "output_type": "error",
     "traceback": [
      "\u001b[0;31m---------------------------------------------------------------------------\u001b[0m",
      "\u001b[0;31mNameError\u001b[0m                                 Traceback (most recent call last)",
      "Cell \u001b[0;32mIn[14], line 1\u001b[0m\n\u001b[0;32m----> 1\u001b[0m x1 \u001b[38;5;241m=\u001b[39m \u001b[43mnp\u001b[49m\u001b[38;5;241m.\u001b[39marange(x_inf, x_sup, \u001b[38;5;241m0.01\u001b[39m)\n\u001b[1;32m      2\u001b[0m plt\u001b[38;5;241m.\u001b[39mplot(x1, function(x1))\n\u001b[1;32m      3\u001b[0m plt\u001b[38;5;241m.\u001b[39mplot(dynamic[\u001b[38;5;241m0\u001b[39m], function(dynamic[\u001b[38;5;241m0\u001b[39m]), marker\u001b[38;5;241m=\u001b[39m\u001b[38;5;124m'\u001b[39m\u001b[38;5;124mo\u001b[39m\u001b[38;5;124m'\u001b[39m, ls \u001b[38;5;241m=\u001b[39m \u001b[38;5;124m'\u001b[39m\u001b[38;5;124m'\u001b[39m, label \u001b[38;5;241m=\u001b[39m \u001b[38;5;124m'\u001b[39m\u001b[38;5;124minitial\u001b[39m\u001b[38;5;124m'\u001b[39m)\n",
      "\u001b[0;31mNameError\u001b[0m: name 'np' is not defined"
     ]
    }
   ],
   "source": [
    "x1 = np.arange(x_inf, x_sup, 0.01)\n",
    "plt.plot(x1, function(x1))\n",
    "plt.plot(dynamic[0], function(dynamic[0]), marker='o', ls = '', label = 'initial')\n",
    "plt.plot(dynamic[-1], function(dynamic[-1]), marker='o', ls = '', label = 'final')\n",
    "plt.legend()\n",
    "plt.show"
   ]
  },
  {
   "cell_type": "code",
   "execution_count": null,
   "id": "96c87c74-a1f4-470d-996e-15c5d5f447fd",
   "metadata": {},
   "outputs": [],
   "source": []
  }
 ],
 "metadata": {
  "kernelspec": {
   "display_name": "Python 3 (ipykernel)",
   "language": "python",
   "name": "python3"
  },
  "language_info": {
   "codemirror_mode": {
    "name": "ipython",
    "version": 3
   },
   "file_extension": ".py",
   "mimetype": "text/x-python",
   "name": "python",
   "nbconvert_exporter": "python",
   "pygments_lexer": "ipython3",
   "version": "3.12.2"
  }
 },
 "nbformat": 4,
 "nbformat_minor": 5
}
